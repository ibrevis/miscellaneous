{
 "cells": [
  {
   "cell_type": "markdown",
   "id": "ea72cd31",
   "metadata": {},
   "source": [
    "This code follows the notation from https://iopscience.iop.org/article/10.1088/0266-5611/16/5/321/meta\n",
    "\n",
    "assumption: here $z_\\ell = 1$ for all $1 \\leq \\ell \\leq L$."
   ]
  },
  {
   "cell_type": "code",
   "execution_count": 1,
   "id": "2192971a",
   "metadata": {},
   "outputs": [],
   "source": [
    "import fenics as fn\n",
    "import numpy as np\n",
    "from matplotlib import pyplot as plt"
   ]
  },
  {
   "cell_type": "markdown",
   "id": "72f4258f",
   "metadata": {},
   "source": [
    "$$\n",
    "\\left\\{\n",
    "\\begin{array}{rlc}\n",
    "\\nabla \\cdot(\\gamma(x)\\nabla u) &= 0 & \\text{ in }\\Omega \\\\\n",
    "\\displaystyle\\gamma(x)\\frac{\\partial u}{\\partial n} &= 0 & \\text{ over }\\Gamma \\\\\n",
    " \\displaystyle u + z_\\ell \\gamma(x)\\frac{\\partial u}{\\partial n} &= U_\\ell & \\text{ over }e_\\ell \n",
    " \\\\\n",
    "\\displaystyle \\int_{e_\\ell}\\frac{\\partial u}{\\partial n}\\, dS &= I_\\ell & \\text{ over }e_\\ell \n",
    "\\end{array}\n",
    "\\right.\n",
    "$$\n",
    "where $\\Gamma = \\partial \\Omega \\setminus \\cup_{\\ell=1}^{L} e_\\ell$"
   ]
  },
  {
   "cell_type": "markdown",
   "id": "9595c3f4",
   "metadata": {},
   "source": [
    "**Parameters**"
   ]
  },
  {
   "cell_type": "code",
   "execution_count": 2,
   "id": "166cd6df",
   "metadata": {},
   "outputs": [],
   "source": [
    "Ne = 4\n",
    "# Conductivity\n",
    "gamma = [1.,10.]\n",
    "# Impedance\n",
    "#z = [1.]\n",
    "# Tolerance \n",
    "tol = 1E-14\n",
    "# electrodes number\n",
    "L = 4"
   ]
  },
  {
   "cell_type": "code",
   "execution_count": 3,
   "id": "d7347419",
   "metadata": {},
   "outputs": [
    {
     "data": {
      "image/png": "[encoded data removed]",
      "text/plain": [
       "<Figure size 640x480 with 1 Axes>"
      ]
     },
     "metadata": {},
     "output_type": "display_data"
    }
   ],
   "source": [
    "#\n",
    "h = 1/Ne\n",
    "#\n",
    "mesh = fn.UnitSquareMesh(Ne,Ne)\n",
    "#\n",
    "fn.plot(mesh)\n",
    "plt.show()"
   ]
  },
  {
   "cell_type": "code",
   "execution_count": 4,
   "id": "417f4edf",
   "metadata": {},
   "outputs": [],
   "source": [
    "Uh = fn.FunctionSpace(mesh,'CG',1)\n",
    "Eh = fn.FunctionSpace(mesh,'DG',0)\n",
    "#\n",
    "DofUh = Uh.dim()"
   ]
  },
  {
   "cell_type": "markdown",
   "id": "d193d751",
   "metadata": {},
   "source": [
    "**Conductivity**"
   ]
  },
  {
   "cell_type": "code",
   "execution_count": 5,
   "id": "cc977add",
   "metadata": {},
   "outputs": [],
   "source": [
    "k_0 = 1.0\n",
    "k_1 = 0.01\n",
    "conductivity_str = '(0.25 - tol <= x[0] && x[0] <= 0.5 + tol && 0.25 - tol <= x[1] && x[1] <= 0.5 + tol) ? k_1 : k_0'\n",
    "conductivity = fn.Expression(conductivity_str, degree=0, tol=tol, k_1=gamma[1], k_0=gamma[0])"
   ]
  },
  {
   "cell_type": "markdown",
   "id": "4855bf2c",
   "metadata": {},
   "source": [
    "**Electrodes**"
   ]
  },
  {
   "cell_type": "code",
   "execution_count": 7,
   "id": "595022c0",
   "metadata": {},
   "outputs": [],
   "source": [
    "#\n",
    "e1_str = '(0.25 - tol <= x[0] && x[0] <= 0.75 + tol && 0. - tol <= x[1] && x[1] <= h + tol) ? 1. : 0.'\n",
    "e1 = fn.Expression(e1_str,degree=0,h=h,tol=tol)\n",
    "#\n",
    "e2_str = '(0. - tol <= x[0] && x[0] <= h + tol && 0.25 - tol <= x[1] && x[1] <= 0.75 + tol) ? 1. : 0.'\n",
    "e2 = fn.Expression(e2_str,degree=0,h=h,tol=tol)\n",
    "#\n",
    "e3_str = '(1.-h - tol <= x[0] && x[0] <= 1. + tol && 0.25 - tol <= x[1] && x[1] <= 0.75 + tol) ? 1. : 0.'\n",
    "e3 = fn.Expression(e3_str,degree=0,h=h,tol=tol)\n",
    "#\n",
    "e4_str = '(0.25 - tol <= x[0] && x[0] <= 0.75 + tol && 1.-h - tol <= x[1] && x[1] <= 1. + tol) ? 1. : 0.'\n",
    "e4 = fn.Expression(e4_str,degree=0,h=h,tol=tol)\n",
    "# This works better (it doesn't depend on the mesh)\n",
    "e_list = [e1,e2,e3,e4]"
   ]
  },
  {
   "cell_type": "markdown",
   "id": "7bbd43a8",
   "metadata": {},
   "source": [
    "**Trial and test functions**"
   ]
  },
  {
   "cell_type": "code",
   "execution_count": 8,
   "id": "7e53da1d",
   "metadata": {},
   "outputs": [],
   "source": [
    "uh, vh = fn.TrialFunction(Uh), fn.TestFunction(Uh)"
   ]
  },
  {
   "cell_type": "markdown",
   "id": "8d094743",
   "metadata": {},
   "source": [
    "Find $(u,\\vec U) \\in \\mathbb{H}^1\\times \\mathbb{R}^{L}$ such that:\n",
    "$$\\underbrace{\\int_{\\Omega} \\gamma(x)\\nabla u \\cdot \\nabla v\\,dx}_{B_0} + \\underbrace{\\sum_{\\ell=1}^{L}\\int_{e_\\ell} \\frac{1}{z_\\ell} v(u - U_\\ell)\\, dS}_{B_1} = \\underbrace{\\sum_{\\ell=1}^{L} I_\\ell V_\\ell}_{f}, $$\n",
    "for all $(v,\\vec V)\\in \\mathbb{H}^{1}\\times \\mathbb{R}^{L}$."
   ]
  },
  {
   "cell_type": "code",
   "execution_count": 9,
   "id": "2ff7724a",
   "metadata": {},
   "outputs": [],
   "source": [
    "# Integral of gradients over the domail \n",
    "B0 = fn.assemble(conductivity*fn.inner(fn.grad(uh),fn.grad(vh))*(fn.dx)).array()\n",
    "# Line integral over e1 ... eL\n",
    "B1_list = []\n",
    "for l in range(L):\n",
    "    B1_list.append(fn.assemble(uh*vh*e_list[l]*(fn.ds)).array())\n",
    "## Line integral over e2\n",
    "#B2 = fn.assemble(uh*vh*e2*(fn.ds)).array()\n",
    "## Line integral over e3\n",
    "#B3 = fn.assemble(uh*vh*e3*(fn.ds)).array()\n",
    "## Line integral over e4\n",
    "#B4 = fn.assemble(uh*vh*e4*(fn.ds)).array()\n",
    "\n",
    "# Put all the matrices together\n",
    "B = B0\n",
    "for l in range(L):\n",
    "    B += B1_list[l]"
   ]
  },
  {
   "cell_type": "markdown",
   "id": "ae77a412",
   "metadata": {},
   "source": [
    "**C matrix**"
   ]
  },
  {
   "cell_type": "markdown",
   "id": "375f7c01",
   "metadata": {},
   "source": [
    "$n_j = (1,0,\\dots,\\underbrace{-1}_{(j+1)-th},\\dots,0) \\in \\mathbb{R}^L$ with $j=1,\\dots,L-1$\n",
    "$$C_{i,j} = -\\left( \\frac{1}{z_1}\\int_{e_1} \\varphi_i\\, dS - \\frac{1}{z_{j+1}}\\int_{e_{j+1}} \\varphi_i\\,\\right)$$"
   ]
  },
  {
   "cell_type": "code",
   "execution_count": 10,
   "id": "b0ac8907",
   "metadata": {},
   "outputs": [
    {
     "name": "stdout",
     "output_type": "stream",
     "text": [
      "Calling FFC just-in-time (JIT) compiler, this may take some time.\n"
     ]
    }
   ],
   "source": [
    "C = np.zeros((DofUh,L-1))\n",
    "for j in range(L-1):\n",
    "    aux = fn.assemble(uh*e_list[j+1]*(fn.ds))[:] - fn.assemble(uh*e_list[0]*(fn.ds))[:]\n",
    "    C[:,j] = aux\n",
    "#print(C)"
   ]
  },
  {
   "cell_type": "code",
   "execution_count": 11,
   "id": "0ef817ab",
   "metadata": {},
   "outputs": [
    {
     "data": {
      "text/plain": [
       "array([0.01041667, 0.03125   , 0.03125   , 0.03125   , 0.0625    ,\n",
       "       0.03125   , 0.03125   , 0.0625    , 0.0625    , 0.03125   ,\n",
       "       0.02083333, 0.0625    , 0.0625    , 0.0625    , 0.02083333,\n",
       "       0.03125   , 0.0625    , 0.0625    , 0.03125   , 0.03125   ,\n",
       "       0.0625    , 0.03125   , 0.03125   , 0.03125   , 0.01041667])"
      ]
     },
     "execution_count": 11,
     "metadata": {},
     "output_type": "execute_result"
    }
   ],
   "source": [
    "fn.assemble(uh*fn.dx)[:]"
   ]
  },
  {
   "cell_type": "code",
   "execution_count": 12,
   "id": "d07aa647",
   "metadata": {},
   "outputs": [
    {
     "data": {
      "text/plain": [
       "(25, 3)"
      ]
     },
     "execution_count": 12,
     "metadata": {},
     "output_type": "execute_result"
    }
   ],
   "source": [
    "C.shape"
   ]
  },
  {
   "cell_type": "markdown",
   "id": "ec289dbe",
   "metadata": {},
   "source": [
    "**G matrix**"
   ]
  },
  {
   "cell_type": "markdown",
   "id": "d3a39ee6",
   "metadata": {},
   "source": [
    "$$G_{i,j} = \\sum_{\\ell=1}^{L} \\frac{1}{z_\\ell}\\int_{e_\\ell} (n_i)_\\ell (n_j)_\\ell = \n",
    "\\begin{cases} \n",
    "\\frac{|e_1|}{z_1}, & i\\neq j \\\\ \n",
    "\\frac{|e_1|}{z_1} + \\frac{|e_{j+1}|}{z_{j+1}}, & i=j\n",
    "\\end{cases}\n",
    "$$\n",
    "\n",
    "It seems that $|e_i| := \\int_{e_i} 1\\, dS$ (Zamora - page 26)"
   ]
  },
  {
   "cell_type": "code",
   "execution_count": 13,
   "id": "05c1746e",
   "metadata": {},
   "outputs": [
    {
     "name": "stdout",
     "output_type": "stream",
     "text": [
      "[[1.  0.5 0.5]\n",
      " [0.5 1.  0.5]\n",
      " [0.5 0.5 1. ]]\n"
     ]
    }
   ],
   "source": [
    "e_length = 0.5\n",
    "G = e_length*np.ones((L-1,L-1))\n",
    "for l in range(L-1):\n",
    "    G[l,l] += e_length\n",
    "print(G)"
   ]
  },
  {
   "cell_type": "markdown",
   "id": "ea5e3bca",
   "metadata": {},
   "source": [
    "**full block matrix $A$**"
   ]
  },
  {
   "cell_type": "code",
   "execution_count": 14,
   "id": "f663a5d9",
   "metadata": {},
   "outputs": [],
   "source": [
    "A = np.block([[B, C], [C.transpose(), G]])"
   ]
  },
  {
   "cell_type": "markdown",
   "id": "570eca0b",
   "metadata": {},
   "source": [
    "**RHS**"
   ]
  },
  {
   "cell_type": "markdown",
   "id": "3402fcff",
   "metadata": {},
   "source": [
    "$\\mathcal{C}$ matrix (caligraphic C)"
   ]
  },
  {
   "cell_type": "code",
   "execution_count": 15,
   "id": "1ef68fba",
   "metadata": {},
   "outputs": [
    {
     "name": "stdout",
     "output_type": "stream",
     "text": [
      "[[ 1.  1.  1.]\n",
      " [-1.  0.  0.]\n",
      " [ 0. -1.  0.]\n",
      " [ 0.  0. -1.]]\n"
     ]
    }
   ],
   "source": [
    "calC = np.zeros((L,L-1))\n",
    "for j in range(L-1):\n",
    "    calC[j+1,j] = -1\n",
    "    calC[0,j] = 1\n",
    "print(calC)"
   ]
  },
  {
   "cell_type": "markdown",
   "id": "6e96442e",
   "metadata": {},
   "source": [
    "**current** $I$"
   ]
  },
  {
   "cell_type": "code",
   "execution_count": 16,
   "id": "0011a315",
   "metadata": {},
   "outputs": [],
   "source": [
    "I = np.array([1,-1,1,-1])"
   ]
  },
  {
   "cell_type": "code",
   "execution_count": 17,
   "id": "ba8e2895",
   "metadata": {},
   "outputs": [
    {
     "name": "stdout",
     "output_type": "stream",
     "text": [
      "[2. 0. 2.]\n"
     ]
    }
   ],
   "source": [
    "hatI      = np.matmul(calC.transpose(),I)\n",
    "print(hatI)"
   ]
  },
  {
   "cell_type": "code",
   "execution_count": 18,
   "id": "f00bc0e0",
   "metadata": {},
   "outputs": [],
   "source": [
    "f = np.zeros(DofUh + L-1)\n",
    "f[DofUh:] = hatI"
   ]
  },
  {
   "cell_type": "markdown",
   "id": "bd11707c",
   "metadata": {},
   "source": [
    "### Solve the linear system"
   ]
  },
  {
   "cell_type": "code",
   "execution_count": 19,
   "id": "28d83921",
   "metadata": {},
   "outputs": [],
   "source": [
    "b = np.linalg.solve(A,f)\n",
    "alpha = b[:DofUh]\n",
    "beta  = b[DofUh:]"
   ]
  },
  {
   "cell_type": "markdown",
   "id": "178ecdac",
   "metadata": {},
   "source": [
    "$u^h$ "
   ]
  },
  {
   "cell_type": "code",
   "execution_count": 20,
   "id": "ac5e35ef",
   "metadata": {},
   "outputs": [
    {
     "data": {
      "text/plain": [
       "array([-5.83156836e-01, -5.70636065e-01, -5.95677607e-01, -4.87547415e-01,\n",
       "       -3.67537761e-01, -5.84708597e-01, -2.54260299e-01, -6.57757828e-02,\n",
       "       -2.38061589e-01, -2.79301841e-01,  5.48594235e-17,  1.41756162e-16,\n",
       "        1.79268056e-16,  3.63398519e-16,  4.59893459e-16,  2.54260299e-01,\n",
       "        6.57757828e-02,  2.38061589e-01,  2.79301841e-01,  4.87547415e-01,\n",
       "        3.67537761e-01,  5.84708597e-01,  5.70636065e-01,  5.95677607e-01,\n",
       "        5.83156836e-01,  2.44999780e+00, -2.51109916e+00,  2.51109916e+00])"
      ]
     },
     "execution_count": 20,
     "metadata": {},
     "output_type": "execute_result"
    }
   ],
   "source": [
    "b"
   ]
  },
  {
   "cell_type": "markdown",
   "id": "e83ddf4f",
   "metadata": {},
   "source": [
    "$U^h$"
   ]
  },
  {
   "cell_type": "code",
   "execution_count": 21,
   "id": "a3d3d263",
   "metadata": {},
   "outputs": [
    {
     "data": {
      "text/plain": [
       "array([-5.83156836e-01, -5.70636065e-01, -5.95677607e-01, -4.87547415e-01,\n",
       "       -3.67537761e-01, -5.84708597e-01, -2.54260299e-01, -6.57757828e-02,\n",
       "       -2.38061589e-01, -2.79301841e-01,  5.48594235e-17,  1.41756162e-16,\n",
       "        1.79268056e-16,  3.63398519e-16,  4.59893459e-16,  2.54260299e-01,\n",
       "        6.57757828e-02,  2.38061589e-01,  2.79301841e-01,  4.87547415e-01,\n",
       "        3.67537761e-01,  5.84708597e-01,  5.70636065e-01,  5.95677607e-01,\n",
       "        5.83156836e-01])"
      ]
     },
     "execution_count": 21,
     "metadata": {},
     "output_type": "execute_result"
    }
   ],
   "source": [
    "alpha"
   ]
  },
  {
   "cell_type": "code",
   "execution_count": 22,
   "id": "39583355",
   "metadata": {},
   "outputs": [],
   "source": [
    "uh_sol = fn.Function(Uh)\n",
    "uh_sol.vector()[:] = alpha"
   ]
  },
  {
   "cell_type": "code",
   "execution_count": 23,
   "id": "dfc1b3de",
   "metadata": {},
   "outputs": [
    {
     "data": {
      "image/png": "[encoded data removed]",
      "text/plain": [
       "<Figure size 640x480 with 1 Axes>"
      ]
     },
     "metadata": {},
     "output_type": "display_data"
    }
   ],
   "source": [
    "fn.plot(uh_sol)\n",
    "plt.show()"
   ]
  },
  {
   "cell_type": "code",
   "execution_count": null,
   "id": "4ba0b159",
   "metadata": {},
   "outputs": [],
   "source": []
  }
 ],
 "metadata": {
  "kernelspec": {
   "display_name": "fn_tr_linux_new_env",
   "language": "python",
   "name": "fn_tr_linux_new_env"
  },
  "language_info": {
   "codemirror_mode": {
    "name": "ipython",
    "version": 3
   },
   "file_extension": ".py",
   "mimetype": "text/x-python",
   "name": "python",
   "nbconvert_exporter": "python",
   "pygments_lexer": "ipython3",
   "version": "3.8.16"
  }
 },
 "nbformat": 4,
 "nbformat_minor": 5
}
