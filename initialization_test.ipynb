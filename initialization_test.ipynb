{
 "cells": [
  {
   "cell_type": "code",
   "execution_count": 1,
   "metadata": {},
   "outputs": [],
   "source": [
    "import torch"
   ]
  },
  {
   "attachments": {},
   "cell_type": "markdown",
   "metadata": {},
   "source": [
    "**Synthetic data**"
   ]
  },
  {
   "cell_type": "code",
   "execution_count": 2,
   "metadata": {},
   "outputs": [],
   "source": [
    "X_train = torch.tensor([[1.], [3.], [5.], [7.]])\n",
    "Y_train = torch.tensor([[2.], [4.], [6.], [8.]])"
   ]
  },
  {
   "attachments": {},
   "cell_type": "markdown",
   "metadata": {},
   "source": [
    "**Small neural network, 1 hidden layer with 3 neurons (one input and one output)**"
   ]
  },
  {
   "cell_type": "code",
   "execution_count": 3,
   "metadata": {},
   "outputs": [],
   "source": [
    "nn_sigmoid = torch.nn.Sequential(\n",
    "    torch.nn.Linear(1,3),\n",
    "    torch.nn.Sigmoid(),\n",
    "    torch.nn.Linear(3,1)\n",
    ")"
   ]
  },
  {
   "attachments": {},
   "cell_type": "markdown",
   "metadata": {},
   "source": [
    "**Visualization of the weights**"
   ]
  },
  {
   "cell_type": "code",
   "execution_count": 4,
   "metadata": {},
   "outputs": [
    {
     "name": "stdout",
     "output_type": "stream",
     "text": [
      "W_1: tensor([[1.],\n",
      "        [1.],\n",
      "        [1.]])\n",
      "b_1: tensor([0.4017, 0.2056, 0.3418])\n",
      "W_2: tensor([[1., 1., 1.]])\n",
      "b_2: tensor([0.3495])\n"
     ]
    }
   ],
   "source": [
    "# W1\n",
    "nn_sigmoid.state_dict()['0.weight'][0] = 1.\n",
    "nn_sigmoid.state_dict()['0.weight'][1] = 1.\n",
    "nn_sigmoid.state_dict()['0.weight'][2] = 1.\n",
    "# b1\n",
    "#nn_sigmoid.state_dict()['0.bias'][0] = 0.\n",
    "# W2\n",
    "nn_sigmoid.state_dict()['2.weight'][0] = 1.\n",
    "# b2\n",
    "#nn_sigmoid.state_dict()['0.bias'][0] = 0.\n",
    "print('W_1:', nn_sigmoid.state_dict()['0.weight'])\n",
    "print('b_1:', nn_sigmoid.state_dict()['0.bias'])\n",
    "print('W_2:', nn_sigmoid.state_dict()['2.weight'])\n",
    "print('b_2:', nn_sigmoid.state_dict()['2.bias'])\n"
   ]
  },
  {
   "attachments": {},
   "cell_type": "markdown",
   "metadata": {},
   "source": [
    "**Minimization algorithm (Adam)**"
   ]
  },
  {
   "cell_type": "code",
   "execution_count": 5,
   "metadata": {},
   "outputs": [],
   "source": [
    "optimizer = torch.optim.Adam(nn_sigmoid.parameters(),lr=0.001)"
   ]
  },
  {
   "attachments": {},
   "cell_type": "markdown",
   "metadata": {},
   "source": [
    "**We run the training for 3 epoch and visualize $W_1$ after each epoch**"
   ]
  },
  {
   "cell_type": "code",
   "execution_count": 6,
   "metadata": {},
   "outputs": [
    {
     "name": "stdout",
     "output_type": "stream",
     "text": [
      "iteration: 0\n",
      "W_1: tensor([[1.0010],\n",
      "        [1.0010],\n",
      "        [1.0010]])\n",
      "W_2: tensor([[1.0010, 1.0010, 1.0010]])\n",
      "iteration: 1\n",
      "W_1: tensor([[1.0020],\n",
      "        [1.0020],\n",
      "        [1.0020]])\n",
      "W_2: tensor([[1.0020, 1.0020, 1.0020]])\n",
      "iteration: 2\n",
      "W_1: tensor([[1.0030],\n",
      "        [1.0030],\n",
      "        [1.0030]])\n",
      "W_2: tensor([[1.0030, 1.0030, 1.0030]])\n"
     ]
    }
   ],
   "source": [
    "for epoch in range(3):\n",
    "    optimizer.zero_grad() # to make the gradients zero\n",
    "    y_hat = nn_sigmoid(X_train)\n",
    "    loss = torch.mean(torch.pow(y_hat - Y_train,2))\n",
    "    #\n",
    "    loss.backward()\n",
    "    #\n",
    "    optimizer.step()\n",
    "    #\n",
    "    print('iteration:',epoch)\n",
    "    print('W_1:', nn_sigmoid.state_dict()['0.weight'])\n",
    "    print('W_2:', nn_sigmoid.state_dict()['2.weight'])"
   ]
  },
  {
   "cell_type": "code",
   "execution_count": null,
   "metadata": {},
   "outputs": [],
   "source": []
  }
 ],
 "metadata": {
  "kernelspec": {
   "display_name": "torch-env-win",
   "language": "python",
   "name": "torch-env-win"
  },
  "language_info": {
   "codemirror_mode": {
    "name": "ipython",
    "version": 3
   },
   "file_extension": ".py",
   "mimetype": "text/x-python",
   "name": "python",
   "nbconvert_exporter": "python",
   "pygments_lexer": "ipython3",
   "version": "3.9.12"
  },
  "orig_nbformat": 4
 },
 "nbformat": 4,
 "nbformat_minor": 2
}
