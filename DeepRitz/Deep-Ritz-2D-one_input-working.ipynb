{
 "cells": [
  {
   "cell_type": "code",
   "execution_count": 1,
   "id": "20621f16",
   "metadata": {},
   "outputs": [],
   "source": [
    "import numpy as np\n",
    "#####################################\n",
    "import torch\n",
    "import torch.nn as nn\n",
    "#import torch.nn.functional as F\n",
    "from torch import optim, autograd\n",
    "#####################################\n",
    "from matplotlib import pyplot as plt"
   ]
  },
  {
   "cell_type": "code",
   "execution_count": 3,
   "id": "a137793a",
   "metadata": {},
   "outputs": [],
   "source": [
    "def random_dom_points(n=4096,d=1):\n",
    "    x = torch.rand(n,d)\n",
    "    x.requires_grad = True\n",
    "    return x\n",
    "def random_bc_points(n=64):\n",
    "    n_ = int(n/4)\n",
    "    x1 = torch.rand(n_,1)\n",
    "    y1 = torch.zeros(n_,1)\n",
    "    #\n",
    "    x2 = torch.ones(n_,1)\n",
    "    y2 = torch.rand(n_,1)\n",
    "    #\n",
    "    x3 = torch.rand(n_,1)\n",
    "    y3 = torch.ones(n_,1)\n",
    "    #\n",
    "    x4 = torch.zeros(n_,1)\n",
    "    y4 = torch.rand(n_,1)\n",
    "    x = torch.cat((x1,x2,x3,x4),0)\n",
    "    y = torch.cat((y1,y2,y3,y4),0)\n",
    "    aux = torch.cat((x,y),1)\n",
    "    aux.requires_grad = True\n",
    "    return aux"
   ]
  },
  {
   "cell_type": "code",
   "execution_count": 4,
   "id": "a6baa50b",
   "metadata": {},
   "outputs": [],
   "source": [
    "def f(x):\n",
    "    \n",
    "    aux = 2*(np.pi)**2*torch.sin(np.pi*x[:,0])*torch.sin(np.pi*x[:,1])\n",
    "    return aux.view(-1,1)"
   ]
  },
  {
   "cell_type": "code",
   "execution_count": 5,
   "id": "e24fac34",
   "metadata": {},
   "outputs": [
    {
     "name": "stdout",
     "output_type": "stream",
     "text": [
      "Is cuda available? False\n",
      "Used device: cpu\n"
     ]
    }
   ],
   "source": [
    "device = 'cpu' #torch.device('cuda' if torch.cuda.is_available() else 'cpu')\n",
    "print('Is cuda available?',torch.cuda.is_available())\n",
    "print('Used device:',device)"
   ]
  },
  {
   "cell_type": "code",
   "execution_count": 6,
   "id": "6d9abb58",
   "metadata": {},
   "outputs": [],
   "source": [
    "epochs = 50000 #50000\n",
    "\n",
    "in_N = 1\n",
    "m = 10\n",
    "out_N = 1"
   ]
  },
  {
   "cell_type": "code",
   "execution_count": 7,
   "id": "55f5def1",
   "metadata": {},
   "outputs": [],
   "source": [
    "torch.manual_seed(42)\n",
    "model = torch.nn.Sequential(\n",
    "    nn.Linear(2,10),\n",
    "    nn.Sigmoid(),\n",
    "    nn.Linear(10,10),\n",
    "    nn.Sigmoid(),\n",
    "    nn.Linear(10,20),\n",
    "    nn.Sigmoid(),    \n",
    "    nn.Linear(20,20),\n",
    "    nn.Sigmoid(),\n",
    "    nn.Linear(20,20),\n",
    "    nn.Sigmoid(),\n",
    "    nn.Linear(20,10),\n",
    "    nn.Sigmoid(),   \n",
    "    nn.Linear(10,1)\n",
    ")"
   ]
  },
  {
   "cell_type": "code",
   "execution_count": 8,
   "id": "283de72a",
   "metadata": {},
   "outputs": [
    {
     "data": {
      "text/plain": [
       "Sequential(\n",
       "  (0): Linear(in_features=2, out_features=10, bias=True)\n",
       "  (1): Sigmoid()\n",
       "  (2): Linear(in_features=10, out_features=10, bias=True)\n",
       "  (3): Sigmoid()\n",
       "  (4): Linear(in_features=10, out_features=20, bias=True)\n",
       "  (5): Sigmoid()\n",
       "  (6): Linear(in_features=20, out_features=20, bias=True)\n",
       "  (7): Sigmoid()\n",
       "  (8): Linear(in_features=20, out_features=20, bias=True)\n",
       "  (9): Sigmoid()\n",
       "  (10): Linear(in_features=20, out_features=10, bias=True)\n",
       "  (11): Sigmoid()\n",
       "  (12): Linear(in_features=10, out_features=1, bias=True)\n",
       ")"
      ]
     },
     "execution_count": 8,
     "metadata": {},
     "output_type": "execute_result"
    }
   ],
   "source": [
    "model"
   ]
  },
  {
   "cell_type": "code",
   "execution_count": 9,
   "id": "11e34b00",
   "metadata": {},
   "outputs": [],
   "source": [
    "optimizer = optim.Adam(model.parameters(), lr=3e-3)"
   ]
  },
  {
   "cell_type": "markdown",
   "id": "1652e769",
   "metadata": {},
   "source": [
    "$$\\mathcal{L}(u) = \\int_{\\Omega} |\\nabla u|^2 - fu\\,dx + \\alpha \\int_{\\partial \\Omega} \\left(u - bc\\right)^2\\,dS$$"
   ]
  },
  {
   "cell_type": "code",
   "execution_count": 10,
   "id": "dcf385c3",
   "metadata": {},
   "outputs": [
    {
     "name": "stdout",
     "output_type": "stream",
     "text": [
      "epoch: 0 \n",
      " loss      : 4.8645339012146 \n",
      " loss int  : 0.7237387895584106 \n",
      " loss bound: 0.008281590417027473\n",
      "epoch: 5000 \n",
      " loss      : -2.3424160480499268 \n",
      " loss int  : -2.37495493888855 \n",
      " loss bound: 6.507755460916087e-05\n",
      "epoch: 10000 \n",
      " loss      : -2.389768123626709 \n",
      " loss int  : -2.438560724258423 \n",
      " loss bound: 9.758521628100425e-05\n",
      "epoch: 15000 \n",
      " loss      : -2.4929275512695312 \n",
      " loss int  : -2.573697805404663 \n",
      " loss bound: 0.00016154053446371108\n",
      "epoch: 20000 \n",
      " loss      : -2.4027957916259766 \n",
      " loss int  : -2.4128427505493164 \n",
      " loss bound: 2.0093806597287767e-05\n",
      "epoch: 25000 \n",
      " loss      : -2.5502853393554688 \n",
      " loss int  : -2.616311550140381 \n",
      " loss bound: 0.00013205260620452464\n",
      "epoch: 30000 \n",
      " loss      : -2.450935125350952 \n",
      " loss int  : -2.5510239601135254 \n",
      " loss bound: 0.0002001778775593266\n",
      "epoch: 35000 \n",
      " loss      : -2.2970664501190186 \n",
      " loss int  : -2.328294277191162 \n",
      " loss bound: 6.245577242225409e-05\n",
      "epoch: 40000 \n",
      " loss      : -2.268110752105713 \n",
      " loss int  : -2.2898125648498535 \n",
      " loss bound: 4.340385930845514e-05\n",
      "epoch: 45000 \n",
      " loss      : -2.47809100151062 \n",
      " loss int  : -2.503922462463379 \n",
      " loss bound: 5.166310802451335e-05\n",
      "epoch: 50000 \n",
      " loss      : -2.257934093475342 \n",
      " loss int  : -2.2615036964416504 \n",
      " loss bound: 7.1389854383596685e-06\n",
      "best epoch: 50000 best loss: 2.257934093475342\n"
     ]
    }
   ],
   "source": [
    "best_loss, best_epoch = 1000, 0\n",
    "loss_vector = []\n",
    "for epoch in range(epochs+1):\n",
    "    # Clear previous gradient computation\n",
    "    optimizer.zero_grad()\n",
    "    # Random interior points\n",
    "    x   = random_dom_points(d=2)\n",
    "    u   = model(x)\n",
    "    # Gradient computation \n",
    "    u_x = autograd.grad(outputs=u, \n",
    "                          inputs=x,\n",
    "                          create_graph=True, \n",
    "                          grad_outputs=torch.ones_like(u)\n",
    "                         )[0]\n",
    "    # Loss function (1st component)\n",
    "    loss1 = torch.mean(0.5*(u_x[:,0]**2 + u_x[:,1]**2) - f(x)*u)\n",
    "    # Loss function (2nd component)\n",
    "    x_bc = random_bc_points()\n",
    "    u_bc = model(x_bc)\n",
    "    loss2 = torch.mean((u_bc - 0.)**2)\n",
    "    # Loss function\n",
    "    loss = loss1 + 500*loss2    \n",
    "    # Backpropagation\n",
    "    loss.backward()\n",
    "    # ANN's weights update\n",
    "    optimizer.step()\n",
    "    #\n",
    "    loss_vector.append(loss.item())\n",
    "    #\n",
    "    if epoch % 5000 == 0:\n",
    "        print('epoch:', epoch, \n",
    "              '\\n loss      :', loss.item(), \n",
    "              '\\n loss int  :', (loss1).item(), \n",
    "              '\\n loss bound:', (loss2).item())\n",
    "        if epoch > int(4 * epochs / 5):\n",
    "            if torch.abs(loss) < best_loss:\n",
    "                best_loss = torch.abs(loss).item()\n",
    "                best_epoch = epoch\n",
    "                torch.save(model.state_dict(), 'best_approx.mdl')\n",
    "print('best epoch:', best_epoch, 'best loss:', best_loss)\n",
    "#loss      : -2.3757529258728027 \n",
    "#loss int  : -2.3814682960510254 \n",
    "#loss bound: 1.143070767284371e-05"
   ]
  },
  {
   "cell_type": "code",
   "execution_count": 17,
   "id": "e3f4bcff",
   "metadata": {},
   "outputs": [],
   "source": [
    "torch.save(model.state_dict(), 'best_approx_2D.mdl')"
   ]
  },
  {
   "cell_type": "code",
   "execution_count": 11,
   "id": "5ed62a16",
   "metadata": {},
   "outputs": [
    {
     "data": {
      "text/plain": [
       "[<matplotlib.lines.Line2D at 0x23b61a8fc10>]"
      ]
     },
     "execution_count": 11,
     "metadata": {},
     "output_type": "execute_result"
    },
    {
     "data": {
      "image/png": "[encoded data removed]",
      "text/plain": [
       "<Figure size 432x288 with 1 Axes>"
      ]
     },
     "metadata": {
      "needs_background": "light"
     },
     "output_type": "display_data"
    }
   ],
   "source": [
    "plt.plot(loss_vector)"
   ]
  },
  {
   "cell_type": "code",
   "execution_count": 12,
   "id": "2b71284f",
   "metadata": {},
   "outputs": [],
   "source": [
    "#model.load_state_dict(torch.load('best_approx_2D.mdl'))"
   ]
  },
  {
   "cell_type": "code",
   "execution_count": 24,
   "id": "07d19fc4",
   "metadata": {},
   "outputs": [],
   "source": [
    "with torch.no_grad():\n",
    "    x1 = torch.linspace(0.,1,100)\n",
    "    x1 = x1.flatten()[:, None]\n",
    "    x2 = 0.8*torch.ones_like(x1)    \n",
    "    y_hat = model(torch.cat((x1,x2),1))\n",
    "    y_real = torch.sin(np.pi*x1)*torch.sin(np.pi*x2)"
   ]
  },
  {
   "cell_type": "code",
   "execution_count": 25,
   "id": "772c98bf",
   "metadata": {},
   "outputs": [
    {
     "data": {
      "text/plain": [
       "<matplotlib.legend.Legend at 0x23b62cf0af0>"
      ]
     },
     "execution_count": 25,
     "metadata": {},
     "output_type": "execute_result"
    },
    {
     "data": {
      "image/png": "[encoded data removed]",
      "text/plain": [
       "<Figure size 504x432 with 1 Axes>"
      ]
     },
     "metadata": {
      "needs_background": "light"
     },
     "output_type": "display_data"
    }
   ],
   "source": [
    "plt.figure(figsize=(7,6))\n",
    "plt.plot(x1,y_hat,label='ANN approximation')\n",
    "plt.plot(x1,y_real, label='Analytic sol')\n",
    "#\n",
    "plt.xlim(0,1)\n",
    "plt.ylim(0,None)\n",
    "#\n",
    "plt.legend()"
   ]
  },
  {
   "cell_type": "code",
   "execution_count": null,
   "id": "b1421505",
   "metadata": {},
   "outputs": [],
   "source": []
  }
 ],
 "metadata": {
  "kernelspec": {
   "display_name": "torch-env-win",
   "language": "python",
   "name": "torch-env-win"
  },
  "language_info": {
   "codemirror_mode": {
    "name": "ipython",
    "version": 3
   },
   "file_extension": ".py",
   "mimetype": "text/x-python",
   "name": "python",
   "nbconvert_exporter": "python",
   "pygments_lexer": "ipython3",
   "version": "3.9.12"
  }
 },
 "nbformat": 4,
 "nbformat_minor": 5
}
