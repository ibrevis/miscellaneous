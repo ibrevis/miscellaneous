{
 "cells": [
  {
   "cell_type": "code",
   "execution_count": 1,
   "id": "20621f16",
   "metadata": {},
   "outputs": [],
   "source": [
    "import numpy as np\n",
    "#####################################\n",
    "import torch\n",
    "import torch.nn as nn\n",
    "#import torch.nn.functional as F\n",
    "from torch import optim, autograd\n",
    "#####################################\n",
    "from matplotlib import pyplot as plt"
   ]
  },
  {
   "cell_type": "code",
   "execution_count": 2,
   "id": "a137793a",
   "metadata": {},
   "outputs": [],
   "source": [
    "def random_dom_points(n=4096,d=1):\n",
    "    x = torch.rand(n,d)\n",
    "    x.requires_grad = True\n",
    "    y = torch.rand(n,d)\n",
    "    y.requires_grad = True\n",
    "    return x,y\n",
    "def random_bc_points(n=64):\n",
    "    n_ = int(n/4)\n",
    "    x1 = torch.rand(n_,1)\n",
    "    y1 = torch.zeros(n_,1)\n",
    "    #\n",
    "    x2 = torch.ones(n_,1)\n",
    "    y2 = torch.rand(n_,1)\n",
    "    #\n",
    "    x3 = torch.rand(n_,1)\n",
    "    y3 = torch.ones(n_,1)\n",
    "    #\n",
    "    x4 = torch.zeros(n_,1)\n",
    "    y4 = torch.rand(n_,1)\n",
    "    x = torch.cat((x1,x2,x3,x4),0)\n",
    "    y = torch.cat((y1,y2,y3,y4),0)\n",
    "    x.requires_grad = True\n",
    "    y.requires_grad = True\n",
    "    return x,y"
   ]
  },
  {
   "cell_type": "code",
   "execution_count": 3,
   "id": "a6baa50b",
   "metadata": {},
   "outputs": [],
   "source": [
    "def f(x,y):\n",
    "    \n",
    "    aux = 2*(np.pi)**2*torch.sin(np.pi*x)*torch.sin(np.pi*y)\n",
    "    return aux.view(-1,1)"
   ]
  },
  {
   "cell_type": "code",
   "execution_count": 4,
   "id": "e24fac34",
   "metadata": {},
   "outputs": [
    {
     "name": "stdout",
     "output_type": "stream",
     "text": [
      "Is cuda available? False\n",
      "Used device: cpu\n"
     ]
    }
   ],
   "source": [
    "device = 'cpu' #torch.device('cuda' if torch.cuda.is_available() else 'cpu')\n",
    "print('Is cuda available?',torch.cuda.is_available())\n",
    "print('Used device:',device)"
   ]
  },
  {
   "cell_type": "code",
   "execution_count": 5,
   "id": "6d9abb58",
   "metadata": {},
   "outputs": [],
   "source": [
    "epochs = 50000 #50000\n",
    "\n",
    "in_N = 1\n",
    "m = 10\n",
    "out_N = 1"
   ]
  },
  {
   "cell_type": "code",
   "execution_count": 6,
   "id": "b873528c",
   "metadata": {},
   "outputs": [],
   "source": [
    "class Model(nn.Module):\n",
    "    def __init__(self, input_size, hidden_sizes, output_size, act=nn.Sigmoid(), device=torch.device(\"cpu\")):\n",
    "        super(Model, self).__init__()\n",
    "\n",
    "        self.layers = nn.ModuleList()\n",
    "        layer_sizes = [input_size] + hidden_sizes + [output_size]\n",
    "\n",
    "        for i in range(len(layer_sizes) - 1):\n",
    "            self.layers.append(nn.Linear(layer_sizes[i], layer_sizes[i+1]).to(device))\n",
    "\n",
    "        self.activation = act.to(device)\n",
    "        self.device = device\n",
    "\n",
    "    def forward(self, x, y):\n",
    "        inputs = torch.cat([x, y], axis=1)  # Concatenate x and t\n",
    "        for layer in self.layers[:-1]:\n",
    "            inputs = self.activation(layer(inputs))\n",
    "        output = self.layers[-1](inputs)\n",
    "        return output"
   ]
  },
  {
   "cell_type": "code",
   "execution_count": 7,
   "id": "307d21aa",
   "metadata": {},
   "outputs": [],
   "source": [
    "model = Model(2,[10,10,20,20,20,10],1)"
   ]
  },
  {
   "cell_type": "code",
   "execution_count": 8,
   "id": "283de72a",
   "metadata": {},
   "outputs": [
    {
     "data": {
      "text/plain": [
       "Model(\n",
       "  (layers): ModuleList(\n",
       "    (0): Linear(in_features=2, out_features=10, bias=True)\n",
       "    (1): Linear(in_features=10, out_features=10, bias=True)\n",
       "    (2): Linear(in_features=10, out_features=20, bias=True)\n",
       "    (3): Linear(in_features=20, out_features=20, bias=True)\n",
       "    (4): Linear(in_features=20, out_features=20, bias=True)\n",
       "    (5): Linear(in_features=20, out_features=10, bias=True)\n",
       "    (6): Linear(in_features=10, out_features=1, bias=True)\n",
       "  )\n",
       "  (activation): Sigmoid()\n",
       ")"
      ]
     },
     "execution_count": 8,
     "metadata": {},
     "output_type": "execute_result"
    }
   ],
   "source": [
    "model"
   ]
  },
  {
   "cell_type": "code",
   "execution_count": 9,
   "id": "11e34b00",
   "metadata": {},
   "outputs": [],
   "source": [
    "optimizer = optim.Adam(model.parameters(), lr=3e-3)"
   ]
  },
  {
   "cell_type": "markdown",
   "id": "1607bd4d",
   "metadata": {},
   "source": [
    "$$\\mathcal{L}(u) = \\int_{\\Omega} |\\nabla u|^2 - fu\\,dx + \\alpha \\int_{\\partial \\Omega} \\left(u - bc\\right)^2\\,dS$$"
   ]
  },
  {
   "cell_type": "code",
   "execution_count": 10,
   "id": "dcf385c3",
   "metadata": {},
   "outputs": [
    {
     "name": "stdout",
     "output_type": "stream",
     "text": [
      "epoch: 0 \n",
      " loss      : 23.32973289489746 \n",
      " loss int  : 1.6536794900894165 \n",
      " loss bound: 0.04335210844874382\n",
      "epoch: 5000 \n",
      " loss      : -2.4823617935180664 \n",
      " loss int  : -2.59517240524292 \n",
      " loss bound: 0.00022562115918844938\n",
      "epoch: 10000 \n",
      " loss      : -2.5070865154266357 \n",
      " loss int  : -2.59185528755188 \n",
      " loss bound: 0.00016953762678895146\n",
      "epoch: 15000 \n",
      " loss      : -2.477992057800293 \n",
      " loss int  : -2.553969383239746 \n",
      " loss bound: 0.0001519546058261767\n",
      "epoch: 20000 \n",
      " loss      : -2.400668144226074 \n",
      " loss int  : -2.4423813819885254 \n",
      " loss bound: 8.342643559444696e-05\n",
      "epoch: 25000 \n",
      " loss      : -2.5741279125213623 \n",
      " loss int  : -2.593804359436035 \n",
      " loss bound: 3.9352948078885674e-05\n",
      "epoch: 30000 \n",
      " loss      : -2.518113851547241 \n",
      " loss int  : -2.5849692821502686 \n",
      " loss bound: 0.00013371085515245795\n",
      "epoch: 35000 \n",
      " loss      : -2.4747231006622314 \n",
      " loss int  : -2.5047783851623535 \n",
      " loss bound: 6.011068035149947e-05\n",
      "epoch: 40000 \n",
      " loss      : -2.5701873302459717 \n",
      " loss int  : -2.618217706680298 \n",
      " loss bound: 9.606095409253612e-05\n",
      "epoch: 45000 \n",
      " loss      : -2.483983278274536 \n",
      " loss int  : -2.49505352973938 \n",
      " loss bound: 2.2140302462503314e-05\n",
      "epoch: 50000 \n",
      " loss      : -2.4901087284088135 \n",
      " loss int  : -2.553626537322998 \n",
      " loss bound: 0.0001270354987354949\n",
      "best epoch: 45000 best loss: 2.483983278274536\n"
     ]
    }
   ],
   "source": [
    "best_loss, best_epoch = 1000, 0\n",
    "loss_vector = []\n",
    "for epoch in range(epochs+1):\n",
    "    # Clear previous gradient computation\n",
    "    optimizer.zero_grad()\n",
    "    # Random interior points\n",
    "    x,y = random_dom_points()\n",
    "    u   = model(x,y)\n",
    "    # Gradient computation \n",
    "    u_x = autograd.grad(outputs=u, \n",
    "                          inputs=x,\n",
    "                          create_graph=True, \n",
    "                          grad_outputs=torch.ones_like(u)\n",
    "                         )[0]\n",
    "    u_y = autograd.grad(outputs=u, \n",
    "                          inputs=y,\n",
    "                          create_graph=True, \n",
    "                          grad_outputs=torch.ones_like(u)\n",
    "                         )[0]\n",
    "    # Loss function (1st component)\n",
    "    loss1 = torch.mean(0.5*(u_x**2 + u_y**2) - f(x,y)*u)\n",
    "    # Loss function (2nd component)\n",
    "    x_bc,y_bc = random_bc_points()\n",
    "    u_bc = model(x_bc,y_bc)\n",
    "    loss2 = torch.mean((u_bc - 0.)**2)\n",
    "    # Loss function\n",
    "    loss = loss1 + 500*loss2    \n",
    "    # Backpropagation\n",
    "    loss.backward()\n",
    "    # ANN's weights update\n",
    "    optimizer.step()\n",
    "    #\n",
    "    loss_vector.append(loss.item())\n",
    "    #\n",
    "    if epoch % 5000 == 0:\n",
    "        print('epoch:', epoch, \n",
    "              '\\n loss      :', loss.item(), \n",
    "              '\\n loss int  :', (loss1).item(), \n",
    "              '\\n loss bound:', (loss2).item())\n",
    "        if epoch > int(4 * epochs / 5):\n",
    "            if torch.abs(loss) < best_loss:\n",
    "                best_loss = torch.abs(loss).item()\n",
    "                best_epoch = epoch\n",
    "                torch.save(model.state_dict(), 'best_approx.mdl')\n",
    "print('best epoch:', best_epoch, 'best loss:', best_loss)\n",
    "#loss      : -2.3757529258728027 \n",
    "#loss int  : -2.3814682960510254 \n",
    "#loss bound: 1.143070767284371e-05"
   ]
  },
  {
   "cell_type": "code",
   "execution_count": 11,
   "id": "d344f6a0",
   "metadata": {},
   "outputs": [],
   "source": [
    "torch.save(model.state_dict(), 'best_approx_2D_v2.mdl')"
   ]
  },
  {
   "cell_type": "code",
   "execution_count": 12,
   "id": "5ed62a16",
   "metadata": {},
   "outputs": [
    {
     "data": {
      "text/plain": [
       "[<matplotlib.lines.Line2D at 0x2036e2d1d60>]"
      ]
     },
     "execution_count": 12,
     "metadata": {},
     "output_type": "execute_result"
    },
    {
     "data": {
      "image/png": "[encoded data removed]",
      "text/plain": [
       "<Figure size 432x288 with 1 Axes>"
      ]
     },
     "metadata": {
      "needs_background": "light"
     },
     "output_type": "display_data"
    }
   ],
   "source": [
    "plt.plot(loss_vector)"
   ]
  },
  {
   "cell_type": "code",
   "execution_count": null,
   "id": "2b71284f",
   "metadata": {},
   "outputs": [],
   "source": [
    "#model.load_state_dict(torch.load('best_approx_2D.mdl'))"
   ]
  },
  {
   "cell_type": "code",
   "execution_count": 13,
   "id": "07d19fc4",
   "metadata": {},
   "outputs": [],
   "source": [
    "with torch.no_grad():\n",
    "    x1 = torch.linspace(0.,1,100)\n",
    "    x1 = x1.flatten()[:, None]\n",
    "    x2 = 0.8*torch.ones_like(x1)    \n",
    "    y_hat = model(x1,x2)\n",
    "    y_real = torch.sin(np.pi*x1)*torch.sin(np.pi*x2)"
   ]
  },
  {
   "cell_type": "code",
   "execution_count": 14,
   "id": "772c98bf",
   "metadata": {},
   "outputs": [
    {
     "data": {
      "text/plain": [
       "<matplotlib.legend.Legend at 0x2036e3c9fd0>"
      ]
     },
     "execution_count": 14,
     "metadata": {},
     "output_type": "execute_result"
    },
    {
     "data": {
      "image/png": "[encoded data removed]",
      "text/plain": [
       "<Figure size 504x432 with 1 Axes>"
      ]
     },
     "metadata": {
      "needs_background": "light"
     },
     "output_type": "display_data"
    }
   ],
   "source": [
    "plt.figure(figsize=(7,6))\n",
    "plt.plot(x1,y_hat,label='ANN approximation')\n",
    "plt.plot(x1,y_real, label='Analytic sol')\n",
    "#\n",
    "plt.xlim(0,1)\n",
    "plt.ylim(0,None)\n",
    "#\n",
    "plt.legend()"
   ]
  },
  {
   "cell_type": "code",
   "execution_count": null,
   "id": "c142bb74",
   "metadata": {},
   "outputs": [],
   "source": []
  }
 ],
 "metadata": {
  "kernelspec": {
   "display_name": "torch-env-win",
   "language": "python",
   "name": "torch-env-win"
  },
  "language_info": {
   "codemirror_mode": {
    "name": "ipython",
    "version": 3
   },
   "file_extension": ".py",
   "mimetype": "text/x-python",
   "name": "python",
   "nbconvert_exporter": "python",
   "pygments_lexer": "ipython3",
   "version": "3.9.12"
  }
 },
 "nbformat": 4,
 "nbformat_minor": 5
}
